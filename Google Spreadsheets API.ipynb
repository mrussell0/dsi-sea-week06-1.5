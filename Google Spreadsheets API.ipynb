{
 "cells": [
  {
   "cell_type": "code",
   "execution_count": null,
   "metadata": {
    "collapsed": true
   },
   "outputs": [],
   "source": [
    "https://dashboard.heroku.com/apps/thawing-reaches-10595"
   ]
  },
  {
   "cell_type": "markdown",
   "metadata": {
    "button": false,
    "deletable": true,
    "new_sheet": false,
    "run_control": {
     "read_only": false
    }
   },
   "source": [
    "### Wouldn't it be nice to see our grades whenever we want? Of course it would! Let's add a new url for our grades page. In urls.py add =>\n",
    "\n",
    "* url(r'^grades/all/$', views.grades, name='grades')"
   ]
  },
  {
   "cell_type": "markdown",
   "metadata": {
    "button": false,
    "deletable": true,
    "new_sheet": false,
    "run_control": {
     "read_only": false
    }
   },
   "source": [
    "### Here is the url for the course labs\n",
    "\n",
    "``` https://docs.google.com/spreadsheets/d/1prfIEcE6mf7QbMyi-O9kgXyuQLYKlezqmGF2NTNNn9s/edit#gid=0 ```"
   ]
  },
  {
   "cell_type": "markdown",
   "metadata": {
    "button": false,
    "deletable": true,
    "new_sheet": false,
    "run_control": {
     "read_only": false
    }
   },
   "source": [
    "### Pull in the information from the spreadsheet. Remember there are two tabs. Print the url of your page at the bottom of this notebook. Here is mine =>\n",
    "\n",
    "* https://peaceful-badlands-42479.herokuapp.com/site/grades/all/\n",
    "\n",
    "#### Don't worry about formatting. As long as it gets on the page it counts. If you are curious about how I made my page, use the inspector to get a clue about how my template was coded."
   ]
  },
  {
   "cell_type": "markdown",
   "metadata": {
    "button": false,
    "deletable": true,
    "new_sheet": false,
    "run_control": {
     "read_only": false
    }
   },
   "source": [
    "### I would recommend using this library =>\n",
    "\n",
    "* https://github.com/burnash/gspread\n",
    "\n",
    "### It will make things very easy for you"
   ]
  }
 ],
 "metadata": {
  "anaconda-cloud": {},
  "kernelspec": {
   "display_name": "Python [default]",
   "language": "python",
   "name": "python2"
  },
  "language_info": {
   "codemirror_mode": {
    "name": "ipython",
    "version": 2
   },
   "file_extension": ".py",
   "mimetype": "text/x-python",
   "name": "python",
   "nbconvert_exporter": "python",
   "pygments_lexer": "ipython2",
   "version": "2.7.12"
  }
 },
 "nbformat": 4,
 "nbformat_minor": 0
}
